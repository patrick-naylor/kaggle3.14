{
 "cells": [
  {
   "cell_type": "code",
   "execution_count": 1,
   "id": "88d1a4b5",
   "metadata": {
    "_cell_guid": "b1076dfc-b9ad-4769-8c92-a6c4dae69d19",
    "_uuid": "8f2839f25d086af736a60e9eeb907d3b93b6e0e5",
    "execution": {
     "iopub.execute_input": "2023-05-12T20:15:34.329212Z",
     "iopub.status.busy": "2023-05-12T20:15:34.328882Z",
     "iopub.status.idle": "2023-05-12T20:15:35.705955Z",
     "shell.execute_reply": "2023-05-12T20:15:35.704952Z"
    },
    "papermill": {
     "duration": 1.383719,
     "end_time": "2023-05-12T20:15:35.707842",
     "exception": false,
     "start_time": "2023-05-12T20:15:34.324123",
     "status": "completed"
    },
    "tags": []
   },
   "outputs": [
    {
     "name": "stderr",
     "output_type": "stream",
     "text": [
      "/opt/conda/lib/python3.10/site-packages/scipy/__init__.py:146: UserWarning: A NumPy version >=1.16.5 and <1.23.0 is required for this version of SciPy (detected version 1.23.5\n",
      "  warnings.warn(f\"A NumPy version >={np_minversion} and <{np_maxversion}\"\n"
     ]
    },
    {
     "name": "stdout",
     "output_type": "stream",
     "text": [
      "/kaggle/input/playground-series-s3e14/sample_submission.csv\n",
      "/kaggle/input/playground-series-s3e14/train.csv\n",
      "/kaggle/input/playground-series-s3e14/test.csv\n"
     ]
    }
   ],
   "source": [
    "# This Python 3 environment comes with many helpful analytics libraries installed\n",
    "# It is defined by the kaggle/python Docker image: https://github.com/kaggle/docker-python\n",
    "# For example, here's several helpful packages to load\n",
    "\n",
    "import numpy as np # linear algebra\n",
    "import pandas as pd # data processing, CSV file I/O (e.g. pd.read_csv)\n",
    "from sklearn.model_selection import train_test_split\n",
    "from sklearn.linear_model import Ridge\n",
    "from sklearn.linear_model import RidgeCV\n",
    "from sklearn.metrics import mean_squared_error\n",
    "from sklearn.feature_selection import SelectKBest\n",
    "from sklearn.feature_selection import f_classif\n",
    "from sklearn.svm import SVR\n",
    "from sklearn.kernel_ridge import KernelRidge\n",
    "import math\n",
    "# Input data files are available in the read-only \"../input/\" directory\n",
    "# For example, running this (by clicking run or pressing Shift+Enter) will list all files under the input directory\n",
    "\n",
    "import os\n",
    "for dirname, _, filenames in os.walk('/kaggle/input'):\n",
    "    for filename in filenames:\n",
    "        print(os.path.join(dirname, filename))\n",
    "\n",
    "# You can write up to 20GB to the current directory (/kaggle/working/) that gets preserved as output when you create a version using \"Save & Run All\" \n",
    "# You can also write temporary files to /kaggle/temp/, but they won't be saved outside of the current session"
   ]
  },
  {
   "cell_type": "code",
   "execution_count": 2,
   "id": "1f247621",
   "metadata": {
    "execution": {
     "iopub.execute_input": "2023-05-12T20:15:35.717188Z",
     "iopub.status.busy": "2023-05-12T20:15:35.716152Z",
     "iopub.status.idle": "2023-05-12T20:15:35.795925Z",
     "shell.execute_reply": "2023-05-12T20:15:35.794984Z"
    },
    "papermill": {
     "duration": 0.086963,
     "end_time": "2023-05-12T20:15:35.798070",
     "exception": false,
     "start_time": "2023-05-12T20:15:35.711107",
     "status": "completed"
    },
    "tags": []
   },
   "outputs": [],
   "source": [
    "train_df = pd.read_csv('/kaggle/input/playground-series-s3e14/train.csv')\n",
    "test_df = pd.read_csv('/kaggle/input/playground-series-s3e14/test.csv')"
   ]
  },
  {
   "cell_type": "code",
   "execution_count": 3,
   "id": "4d701d19",
   "metadata": {
    "execution": {
     "iopub.execute_input": "2023-05-12T20:15:35.806358Z",
     "iopub.status.busy": "2023-05-12T20:15:35.805018Z",
     "iopub.status.idle": "2023-05-12T20:15:35.834521Z",
     "shell.execute_reply": "2023-05-12T20:15:35.833631Z"
    },
    "papermill": {
     "duration": 0.035164,
     "end_time": "2023-05-12T20:15:35.836457",
     "exception": false,
     "start_time": "2023-05-12T20:15:35.801293",
     "status": "completed"
    },
    "tags": []
   },
   "outputs": [
    {
     "name": "stdout",
     "output_type": "stream",
     "text": [
      "   id  clonesize  honeybee  bumbles  andrena  osmia  MaxOfUpperTRange  \\\n",
      "0   0       25.0      0.50     0.25     0.75   0.50              69.7   \n",
      "1   1       25.0      0.50     0.25     0.50   0.50              69.7   \n",
      "2   2       12.5      0.25     0.25     0.63   0.63              86.0   \n",
      "3   3       12.5      0.25     0.25     0.63   0.50              77.4   \n",
      "4   4       25.0      0.50     0.25     0.63   0.63              77.4   \n",
      "\n",
      "   MinOfUpperTRange  AverageOfUpperTRange  MaxOfLowerTRange  MinOfLowerTRange  \\\n",
      "0              42.1                  58.2              50.2              24.3   \n",
      "1              42.1                  58.2              50.2              24.3   \n",
      "2              52.0                  71.9              62.0              30.0   \n",
      "3              46.8                  64.7              55.8              27.0   \n",
      "4              46.8                  64.7              55.8              27.0   \n",
      "\n",
      "   AverageOfLowerTRange  RainingDays  AverageRainingDays  fruitset  fruitmass  \\\n",
      "0                  41.2         24.0                0.39  0.425011   0.417545   \n",
      "1                  41.2         24.0                0.39  0.444908   0.422051   \n",
      "2                  50.8         24.0                0.39  0.552927   0.470853   \n",
      "3                  45.8         24.0                0.39  0.565976   0.478137   \n",
      "4                  45.8         24.0                0.39  0.579677   0.494165   \n",
      "\n",
      "       seeds       yield  \n",
      "0  32.460887  4476.81146  \n",
      "1  33.858317  5548.12201  \n",
      "2  38.341781  6869.77760  \n",
      "3  39.467561  6880.77590  \n",
      "4  40.484512  7479.93417  \n"
     ]
    }
   ],
   "source": [
    "print(train_df.head())\n",
    "train_y = train_df['yield']\n",
    "train_df = train_df.drop('yield', axis='columns')"
   ]
  },
  {
   "cell_type": "code",
   "execution_count": 4,
   "id": "e575b082",
   "metadata": {
    "execution": {
     "iopub.execute_input": "2023-05-12T20:15:35.844298Z",
     "iopub.status.busy": "2023-05-12T20:15:35.843979Z",
     "iopub.status.idle": "2023-05-12T20:15:35.848323Z",
     "shell.execute_reply": "2023-05-12T20:15:35.847629Z"
    },
    "papermill": {
     "duration": 0.010325,
     "end_time": "2023-05-12T20:15:35.850082",
     "exception": false,
     "start_time": "2023-05-12T20:15:35.839757",
     "status": "completed"
    },
    "tags": []
   },
   "outputs": [],
   "source": [
    "def normalize_column(df, column):\n",
    "    df[column] = df[column]/df[column].max()\n",
    "    return(df[column])\n"
   ]
  },
  {
   "cell_type": "code",
   "execution_count": 5,
   "id": "06d0edbd",
   "metadata": {
    "execution": {
     "iopub.execute_input": "2023-05-12T20:15:35.857621Z",
     "iopub.status.busy": "2023-05-12T20:15:35.857300Z",
     "iopub.status.idle": "2023-05-12T20:15:35.878396Z",
     "shell.execute_reply": "2023-05-12T20:15:35.877466Z"
    },
    "papermill": {
     "duration": 0.027234,
     "end_time": "2023-05-12T20:15:35.880529",
     "exception": false,
     "start_time": "2023-05-12T20:15:35.853295",
     "status": "completed"
    },
    "tags": []
   },
   "outputs": [],
   "source": [
    "for column in train_df.columns:\n",
    "    if(train_df[column].max() > 1) and (column != 'id'):\n",
    "        train_df[column] = normalize_column(train_df, column)\n",
    "        \n",
    "for column in test_df.columns:\n",
    "    if(test_df[column].max() > 1) and (column != 'id'):\n",
    "        test_df[column] = normalize_column(test_df, column)"
   ]
  },
  {
   "cell_type": "code",
   "execution_count": 6,
   "id": "b4e75e21",
   "metadata": {
    "execution": {
     "iopub.execute_input": "2023-05-12T20:15:35.888196Z",
     "iopub.status.busy": "2023-05-12T20:15:35.887850Z",
     "iopub.status.idle": "2023-05-12T20:15:35.896854Z",
     "shell.execute_reply": "2023-05-12T20:15:35.896019Z"
    },
    "papermill": {
     "duration": 0.015367,
     "end_time": "2023-05-12T20:15:35.899175",
     "exception": false,
     "start_time": "2023-05-12T20:15:35.883808",
     "status": "completed"
    },
    "tags": []
   },
   "outputs": [],
   "source": [
    "train_x = np.array(train_df.drop('id', axis='columns'))\n",
    "test_x = np.array(test_df.drop('id', axis='columns'))\n",
    "test_id = test_df['id']"
   ]
  },
  {
   "cell_type": "code",
   "execution_count": 7,
   "id": "6fc28929",
   "metadata": {
    "execution": {
     "iopub.execute_input": "2023-05-12T20:15:35.907390Z",
     "iopub.status.busy": "2023-05-12T20:15:35.907071Z",
     "iopub.status.idle": "2023-05-12T20:15:35.995914Z",
     "shell.execute_reply": "2023-05-12T20:15:35.994980Z"
    },
    "papermill": {
     "duration": 0.095579,
     "end_time": "2023-05-12T20:15:35.998093",
     "exception": false,
     "start_time": "2023-05-12T20:15:35.902514",
     "status": "completed"
    },
    "tags": []
   },
   "outputs": [],
   "source": [
    "X, X_test, y, y_test = train_test_split(train_x, train_y)\n",
    "feature_selection = SelectKBest(f_classif, k=16)\n",
    "X_new = feature_selection.fit_transform(X, y)\n",
    "X_test_new = feature_selection.transform(X_test)\n",
    "test_x_new = feature_selection.transform(test_x)\n"
   ]
  },
  {
   "cell_type": "code",
   "execution_count": null,
   "id": "3e38840d",
   "metadata": {
    "papermill": {
     "duration": 0.00269,
     "end_time": "2023-05-12T20:15:36.003993",
     "exception": false,
     "start_time": "2023-05-12T20:15:36.001303",
     "status": "completed"
    },
    "tags": []
   },
   "outputs": [],
   "source": []
  },
  {
   "cell_type": "code",
   "execution_count": 8,
   "id": "0008f8ad",
   "metadata": {
    "execution": {
     "iopub.execute_input": "2023-05-12T20:15:36.012116Z",
     "iopub.status.busy": "2023-05-12T20:15:36.011134Z",
     "iopub.status.idle": "2023-05-12T20:15:44.057541Z",
     "shell.execute_reply": "2023-05-12T20:15:44.056798Z"
    },
    "papermill": {
     "duration": 8.052541,
     "end_time": "2023-05-12T20:15:44.059450",
     "exception": false,
     "start_time": "2023-05-12T20:15:36.006909",
     "status": "completed"
    },
    "tags": []
   },
   "outputs": [
    {
     "name": "stdout",
     "output_type": "stream",
     "text": [
      "582.4013660033957\n",
      "595.9317886824306\n"
     ]
    }
   ],
   "source": [
    "model = KernelRidge(alpha=.1)\n",
    "model.fit(X_new, y)\n",
    "train_pred = model.predict(X_new)\n",
    "test_pred = model.predict(X_test_new)\n",
    "print(math.sqrt(mean_squared_error(y, train_pred)))\n",
    "print(math.sqrt(mean_squared_error(y_test, test_pred)))"
   ]
  },
  {
   "cell_type": "code",
   "execution_count": 9,
   "id": "4abe99a3",
   "metadata": {
    "execution": {
     "iopub.execute_input": "2023-05-12T20:15:44.068403Z",
     "iopub.status.busy": "2023-05-12T20:15:44.068113Z",
     "iopub.status.idle": "2023-05-12T20:15:44.253135Z",
     "shell.execute_reply": "2023-05-12T20:15:44.252352Z"
    },
    "papermill": {
     "duration": 0.192125,
     "end_time": "2023-05-12T20:15:44.255629",
     "exception": false,
     "start_time": "2023-05-12T20:15:44.063504",
     "status": "completed"
    },
    "tags": []
   },
   "outputs": [],
   "source": [
    "results = model.predict(test_x_new)\n",
    "results_df = pd.DataFrame({'id': test_id, 'yield': results})\n",
    "results_df.to_csv('submission.csv', index=False)"
   ]
  },
  {
   "cell_type": "code",
   "execution_count": null,
   "id": "c27e4d1c",
   "metadata": {
    "papermill": {
     "duration": 0.003679,
     "end_time": "2023-05-12T20:15:44.263448",
     "exception": false,
     "start_time": "2023-05-12T20:15:44.259769",
     "status": "completed"
    },
    "tags": []
   },
   "outputs": [],
   "source": []
  },
  {
   "cell_type": "code",
   "execution_count": null,
   "id": "a9b7a540",
   "metadata": {
    "papermill": {
     "duration": 0.004041,
     "end_time": "2023-05-12T20:15:44.271386",
     "exception": false,
     "start_time": "2023-05-12T20:15:44.267345",
     "status": "completed"
    },
    "tags": []
   },
   "outputs": [],
   "source": []
  }
 ],
 "metadata": {
  "kernelspec": {
   "display_name": "Python 3",
   "language": "python",
   "name": "python3"
  },
  "language_info": {
   "codemirror_mode": {
    "name": "ipython",
    "version": 3
   },
   "file_extension": ".py",
   "mimetype": "text/x-python",
   "name": "python",
   "nbconvert_exporter": "python",
   "pygments_lexer": "ipython3",
   "version": "3.10.10"
  },
  "papermill": {
   "default_parameters": {},
   "duration": 19.809167,
   "end_time": "2023-05-12T20:15:45.095641",
   "environment_variables": {},
   "exception": null,
   "input_path": "__notebook__.ipynb",
   "output_path": "__notebook__.ipynb",
   "parameters": {},
   "start_time": "2023-05-12T20:15:25.286474",
   "version": "2.4.0"
  }
 },
 "nbformat": 4,
 "nbformat_minor": 5
}
