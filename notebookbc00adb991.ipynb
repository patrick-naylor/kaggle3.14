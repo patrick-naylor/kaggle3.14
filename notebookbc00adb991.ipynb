{
 "cells": [
  {
   "cell_type": "code",
   "execution_count": 1,
   "id": "4c1993ac",
   "metadata": {
    "_cell_guid": "b1076dfc-b9ad-4769-8c92-a6c4dae69d19",
    "_uuid": "8f2839f25d086af736a60e9eeb907d3b93b6e0e5",
    "execution": {
     "iopub.execute_input": "2023-05-11T17:50:42.892234Z",
     "iopub.status.busy": "2023-05-11T17:50:42.891461Z",
     "iopub.status.idle": "2023-05-11T17:50:44.129209Z",
     "shell.execute_reply": "2023-05-11T17:50:44.128340Z"
    },
    "papermill": {
     "duration": 1.24717,
     "end_time": "2023-05-11T17:50:44.131586",
     "exception": false,
     "start_time": "2023-05-11T17:50:42.884416",
     "status": "completed"
    },
    "tags": []
   },
   "outputs": [
    {
     "name": "stderr",
     "output_type": "stream",
     "text": [
      "/opt/conda/lib/python3.10/site-packages/scipy/__init__.py:146: UserWarning: A NumPy version >=1.16.5 and <1.23.0 is required for this version of SciPy (detected version 1.23.5\n",
      "  warnings.warn(f\"A NumPy version >={np_minversion} and <{np_maxversion}\"\n"
     ]
    },
    {
     "name": "stdout",
     "output_type": "stream",
     "text": [
      "/kaggle/input/playground-series-s3e14/sample_submission.csv\n",
      "/kaggle/input/playground-series-s3e14/train.csv\n",
      "/kaggle/input/playground-series-s3e14/test.csv\n"
     ]
    }
   ],
   "source": [
    "# This Python 3 environment comes with many helpful analytics libraries installed\n",
    "# It is defined by the kaggle/python Docker image: https://github.com/kaggle/docker-python\n",
    "# For example, here's several helpful packages to load\n",
    "\n",
    "import numpy as np # linear algebra\n",
    "import pandas as pd # data processing, CSV file I/O (e.g. pd.read_csv)\n",
    "from sklearn.model_selection import train_test_split\n",
    "from sklearn.linear_model import Ridge\n",
    "from sklearn.metrics import mean_squared_error\n",
    "# Input data files are available in the read-only \"../input/\" directory\n",
    "# For example, running this (by clicking run or pressing Shift+Enter) will list all files under the input directory\n",
    "\n",
    "import os\n",
    "for dirname, _, filenames in os.walk('/kaggle/input'):\n",
    "    for filename in filenames:\n",
    "        print(os.path.join(dirname, filename))\n",
    "\n",
    "# You can write up to 20GB to the current directory (/kaggle/working/) that gets preserved as output when you create a version using \"Save & Run All\" \n",
    "# You can also write temporary files to /kaggle/temp/, but they won't be saved outside of the current session"
   ]
  },
  {
   "cell_type": "code",
   "execution_count": 2,
   "id": "6b2f633d",
   "metadata": {
    "execution": {
     "iopub.execute_input": "2023-05-11T17:50:44.142855Z",
     "iopub.status.busy": "2023-05-11T17:50:44.142193Z",
     "iopub.status.idle": "2023-05-11T17:50:44.280285Z",
     "shell.execute_reply": "2023-05-11T17:50:44.279428Z"
    },
    "papermill": {
     "duration": 0.146444,
     "end_time": "2023-05-11T17:50:44.282782",
     "exception": false,
     "start_time": "2023-05-11T17:50:44.136338",
     "status": "completed"
    },
    "tags": []
   },
   "outputs": [],
   "source": [
    "train_df = pd.read_csv('/kaggle/input/playground-series-s3e14/train.csv')\n",
    "test_df = pd.read_csv('/kaggle/input/playground-series-s3e14/test.csv')"
   ]
  },
  {
   "cell_type": "code",
   "execution_count": 3,
   "id": "6f80d2f4",
   "metadata": {
    "execution": {
     "iopub.execute_input": "2023-05-11T17:50:44.294166Z",
     "iopub.status.busy": "2023-05-11T17:50:44.293605Z",
     "iopub.status.idle": "2023-05-11T17:50:44.327434Z",
     "shell.execute_reply": "2023-05-11T17:50:44.326044Z"
    },
    "papermill": {
     "duration": 0.042197,
     "end_time": "2023-05-11T17:50:44.329811",
     "exception": false,
     "start_time": "2023-05-11T17:50:44.287614",
     "status": "completed"
    },
    "tags": []
   },
   "outputs": [
    {
     "name": "stdout",
     "output_type": "stream",
     "text": [
      "   id  clonesize  honeybee  bumbles  andrena  osmia  MaxOfUpperTRange  \\\n",
      "0   0       25.0      0.50     0.25     0.75   0.50              69.7   \n",
      "1   1       25.0      0.50     0.25     0.50   0.50              69.7   \n",
      "2   2       12.5      0.25     0.25     0.63   0.63              86.0   \n",
      "3   3       12.5      0.25     0.25     0.63   0.50              77.4   \n",
      "4   4       25.0      0.50     0.25     0.63   0.63              77.4   \n",
      "\n",
      "   MinOfUpperTRange  AverageOfUpperTRange  MaxOfLowerTRange  MinOfLowerTRange  \\\n",
      "0              42.1                  58.2              50.2              24.3   \n",
      "1              42.1                  58.2              50.2              24.3   \n",
      "2              52.0                  71.9              62.0              30.0   \n",
      "3              46.8                  64.7              55.8              27.0   \n",
      "4              46.8                  64.7              55.8              27.0   \n",
      "\n",
      "   AverageOfLowerTRange  RainingDays  AverageRainingDays  fruitset  fruitmass  \\\n",
      "0                  41.2         24.0                0.39  0.425011   0.417545   \n",
      "1                  41.2         24.0                0.39  0.444908   0.422051   \n",
      "2                  50.8         24.0                0.39  0.552927   0.470853   \n",
      "3                  45.8         24.0                0.39  0.565976   0.478137   \n",
      "4                  45.8         24.0                0.39  0.579677   0.494165   \n",
      "\n",
      "       seeds       yield  \n",
      "0  32.460887  4476.81146  \n",
      "1  33.858317  5548.12201  \n",
      "2  38.341781  6869.77760  \n",
      "3  39.467561  6880.77590  \n",
      "4  40.484512  7479.93417  \n"
     ]
    }
   ],
   "source": [
    "print(train_df.head())\n",
    "train_y = train_df['yield']\n",
    "train_df = train_df.drop('yield', axis='columns')"
   ]
  },
  {
   "cell_type": "code",
   "execution_count": 4,
   "id": "0e2e3741",
   "metadata": {
    "execution": {
     "iopub.execute_input": "2023-05-11T17:50:44.341341Z",
     "iopub.status.busy": "2023-05-11T17:50:44.340389Z",
     "iopub.status.idle": "2023-05-11T17:50:44.346249Z",
     "shell.execute_reply": "2023-05-11T17:50:44.345241Z"
    },
    "papermill": {
     "duration": 0.013752,
     "end_time": "2023-05-11T17:50:44.348365",
     "exception": false,
     "start_time": "2023-05-11T17:50:44.334613",
     "status": "completed"
    },
    "tags": []
   },
   "outputs": [],
   "source": [
    "def normalize_column(df, column):\n",
    "    df[column] = df[column]/df[column].max()\n",
    "    return(df[column])\n"
   ]
  },
  {
   "cell_type": "code",
   "execution_count": 5,
   "id": "d0d36fb8",
   "metadata": {
    "execution": {
     "iopub.execute_input": "2023-05-11T17:50:44.359793Z",
     "iopub.status.busy": "2023-05-11T17:50:44.358810Z",
     "iopub.status.idle": "2023-05-11T17:50:44.390040Z",
     "shell.execute_reply": "2023-05-11T17:50:44.388869Z"
    },
    "papermill": {
     "duration": 0.03953,
     "end_time": "2023-05-11T17:50:44.392574",
     "exception": false,
     "start_time": "2023-05-11T17:50:44.353044",
     "status": "completed"
    },
    "tags": []
   },
   "outputs": [],
   "source": [
    "for column in train_df.columns:\n",
    "    if(train_df[column].max() > 1) and (column != 'id'):\n",
    "        train_df[column] = normalize_column(train_df, column)\n",
    "        \n",
    "for column in test_df.columns:\n",
    "    if(test_df[column].max() > 1) and (column != 'id'):\n",
    "        test_df[column] = normalize_column(test_df, column)"
   ]
  },
  {
   "cell_type": "code",
   "execution_count": 6,
   "id": "f2c6ac37",
   "metadata": {
    "execution": {
     "iopub.execute_input": "2023-05-11T17:50:44.403805Z",
     "iopub.status.busy": "2023-05-11T17:50:44.402915Z",
     "iopub.status.idle": "2023-05-11T17:50:44.414728Z",
     "shell.execute_reply": "2023-05-11T17:50:44.413945Z"
    },
    "papermill": {
     "duration": 0.019575,
     "end_time": "2023-05-11T17:50:44.417010",
     "exception": false,
     "start_time": "2023-05-11T17:50:44.397435",
     "status": "completed"
    },
    "tags": []
   },
   "outputs": [],
   "source": [
    "train_x = np.array(train_df.drop('id', axis='columns'))\n",
    "test_x = np.array(test_df.drop('id', axis='columns'))\n",
    "test_id = test_df['id']"
   ]
  },
  {
   "cell_type": "code",
   "execution_count": 7,
   "id": "92d297b8",
   "metadata": {
    "execution": {
     "iopub.execute_input": "2023-05-11T17:50:44.428208Z",
     "iopub.status.busy": "2023-05-11T17:50:44.427372Z",
     "iopub.status.idle": "2023-05-11T17:50:44.434526Z",
     "shell.execute_reply": "2023-05-11T17:50:44.433687Z"
    },
    "papermill": {
     "duration": 0.014817,
     "end_time": "2023-05-11T17:50:44.436635",
     "exception": false,
     "start_time": "2023-05-11T17:50:44.421818",
     "status": "completed"
    },
    "tags": []
   },
   "outputs": [],
   "source": [
    "X, X_test, y, y_test = train_test_split(train_x, train_y)"
   ]
  },
  {
   "cell_type": "code",
   "execution_count": 8,
   "id": "81d59c6e",
   "metadata": {
    "execution": {
     "iopub.execute_input": "2023-05-11T17:50:44.447619Z",
     "iopub.status.busy": "2023-05-11T17:50:44.446781Z",
     "iopub.status.idle": "2023-05-11T17:50:44.451893Z",
     "shell.execute_reply": "2023-05-11T17:50:44.451017Z"
    },
    "papermill": {
     "duration": 0.012531,
     "end_time": "2023-05-11T17:50:44.453801",
     "exception": false,
     "start_time": "2023-05-11T17:50:44.441270",
     "status": "completed"
    },
    "tags": []
   },
   "outputs": [
    {
     "name": "stdout",
     "output_type": "stream",
     "text": [
      "(3823, 16)\n"
     ]
    }
   ],
   "source": [
    "print(np.shape(X_test))"
   ]
  },
  {
   "cell_type": "code",
   "execution_count": 9,
   "id": "9bd044dc",
   "metadata": {
    "execution": {
     "iopub.execute_input": "2023-05-11T17:50:44.464973Z",
     "iopub.status.busy": "2023-05-11T17:50:44.464347Z",
     "iopub.status.idle": "2023-05-11T17:50:44.499492Z",
     "shell.execute_reply": "2023-05-11T17:50:44.498154Z"
    },
    "papermill": {
     "duration": 0.045405,
     "end_time": "2023-05-11T17:50:44.503892",
     "exception": false,
     "start_time": "2023-05-11T17:50:44.458487",
     "status": "completed"
    },
    "tags": []
   },
   "outputs": [
    {
     "name": "stdout",
     "output_type": "stream",
     "text": [
      "341743.83769311255\n",
      "334044.05250413215\n"
     ]
    }
   ],
   "source": [
    "model = Ridge(alpha=.01)\n",
    "model.fit(X, y)\n",
    "train_pred = model.predict(X)\n",
    "test_pred = model.predict(X_test)\n",
    "print(mean_squared_error(y, train_pred))\n",
    "print(mean_squared_error(y_test, test_pred))"
   ]
  },
  {
   "cell_type": "code",
   "execution_count": 10,
   "id": "873ce35c",
   "metadata": {
    "execution": {
     "iopub.execute_input": "2023-05-11T17:50:44.526145Z",
     "iopub.status.busy": "2023-05-11T17:50:44.525543Z",
     "iopub.status.idle": "2023-05-11T17:50:44.632741Z",
     "shell.execute_reply": "2023-05-11T17:50:44.631202Z"
    },
    "papermill": {
     "duration": 0.123238,
     "end_time": "2023-05-11T17:50:44.637459",
     "exception": false,
     "start_time": "2023-05-11T17:50:44.514221",
     "status": "completed"
    },
    "tags": []
   },
   "outputs": [],
   "source": [
    "results = model.predict(test_x)\n",
    "results_df = pd.DataFrame({'id': test_id, 'yield': results})\n",
    "results_df.to_csv('submission.csv', index=False)"
   ]
  },
  {
   "cell_type": "code",
   "execution_count": null,
   "id": "3a7136c4",
   "metadata": {
    "papermill": {
     "duration": 0.007374,
     "end_time": "2023-05-11T17:50:44.655044",
     "exception": false,
     "start_time": "2023-05-11T17:50:44.647670",
     "status": "completed"
    },
    "tags": []
   },
   "outputs": [],
   "source": []
  },
  {
   "cell_type": "code",
   "execution_count": null,
   "id": "01c28616",
   "metadata": {
    "papermill": {
     "duration": 0.004674,
     "end_time": "2023-05-11T17:50:44.664371",
     "exception": false,
     "start_time": "2023-05-11T17:50:44.659697",
     "status": "completed"
    },
    "tags": []
   },
   "outputs": [],
   "source": []
  }
 ],
 "metadata": {
  "kernelspec": {
   "display_name": "Python 3",
   "language": "python",
   "name": "python3"
  },
  "language_info": {
   "codemirror_mode": {
    "name": "ipython",
    "version": 3
   },
   "file_extension": ".py",
   "mimetype": "text/x-python",
   "name": "python",
   "nbconvert_exporter": "python",
   "pygments_lexer": "ipython3",
   "version": "3.10.10"
  },
  "papermill": {
   "default_parameters": {},
   "duration": 13.943355,
   "end_time": "2023-05-11T17:50:45.590104",
   "environment_variables": {},
   "exception": null,
   "input_path": "__notebook__.ipynb",
   "output_path": "__notebook__.ipynb",
   "parameters": {},
   "start_time": "2023-05-11T17:50:31.646749",
   "version": "2.4.0"
  }
 },
 "nbformat": 4,
 "nbformat_minor": 5
}
